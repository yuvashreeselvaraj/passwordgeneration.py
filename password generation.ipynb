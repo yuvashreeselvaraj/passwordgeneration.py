{
 "cells": [
  {
   "cell_type": "code",
   "execution_count": 7,
   "metadata": {},
   "outputs": [
    {
     "name": "stdout",
     "output_type": "stream",
     "text": [
      "Required password length12\n",
      "\\u::O`>4]OBj\n"
     ]
    }
   ],
   "source": [
    "import string\n",
    "import random\n",
    "letters_upper=string.ascii_uppercase\n",
    "letters_lower=string.ascii_lowercase\n",
    "digits=string.digits\n",
    "punctuations=string.punctuation\n",
    "characters=letters_upper+letters_lower+digits+punctuations\n",
    "password=''\n",
    "password_len=int(input('Required password length'))\n",
    "for chars in range(password_len):\n",
    "    password+=random.choice(characters)\n",
    "print(password)"
   ]
  },
  {
   "cell_type": "code",
   "execution_count": null,
   "metadata": {},
   "outputs": [],
   "source": []
  }
 ],
 "metadata": {
  "kernelspec": {
   "display_name": "Python 3",
   "language": "python",
   "name": "python3"
  },
  "language_info": {
   "codemirror_mode": {
    "name": "ipython",
    "version": 3
   },
   "file_extension": ".py",
   "mimetype": "text/x-python",
   "name": "python",
   "nbconvert_exporter": "python",
   "pygments_lexer": "ipython3",
   "version": "3.7.3"
  }
 },
 "nbformat": 4,
 "nbformat_minor": 2
}
